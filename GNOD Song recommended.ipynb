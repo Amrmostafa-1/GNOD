{
 "cells": [
  {
   "cell_type": "code",
   "execution_count": 6,
   "id": "2c8ac236",
   "metadata": {},
   "outputs": [],
   "source": [
    "import pandas as pd\n",
    "import spotipy\n",
    "from spotipy.oauth2 import SpotifyClientCredentials\n",
    "from pandas import json_normalize\n",
    "import pickle"
   ]
  },
  {
   "cell_type": "code",
   "execution_count": 9,
   "id": "5a5ff414",
   "metadata": {},
   "outputs": [],
   "source": [
    "df1 = pd.read_csv('Top all.csv')\n",
    "df2 = pd.read_csv('Song_Clusters.csv')"
   ]
  },
  {
   "cell_type": "code",
   "execution_count": 26,
   "id": "c8ed20b6",
   "metadata": {},
   "outputs": [
    {
     "data": {
      "text/html": [
       "<div>\n",
       "<style scoped>\n",
       "    .dataframe tbody tr th:only-of-type {\n",
       "        vertical-align: middle;\n",
       "    }\n",
       "\n",
       "    .dataframe tbody tr th {\n",
       "        vertical-align: top;\n",
       "    }\n",
       "\n",
       "    .dataframe thead th {\n",
       "        text-align: right;\n",
       "    }\n",
       "</style>\n",
       "<table border=\"1\" class=\"dataframe\">\n",
       "  <thead>\n",
       "    <tr style=\"text-align: right;\">\n",
       "      <th></th>\n",
       "      <th>Title</th>\n",
       "      <th>Artist</th>\n",
       "    </tr>\n",
       "  </thead>\n",
       "  <tbody>\n",
       "    <tr>\n",
       "      <th>0</th>\n",
       "      <td>Margaritaville</td>\n",
       "      <td>Jimmy Buffett</td>\n",
       "    </tr>\n",
       "    <tr>\n",
       "      <th>1</th>\n",
       "      <td>Come Monday</td>\n",
       "      <td>Jimmy Buffett</td>\n",
       "    </tr>\n",
       "    <tr>\n",
       "      <th>2</th>\n",
       "      <td>Rich Men North of Richmond</td>\n",
       "      <td>Oliver Anthony Music</td>\n",
       "    </tr>\n",
       "    <tr>\n",
       "      <th>3</th>\n",
       "      <td>All Star</td>\n",
       "      <td>Smash Mouth</td>\n",
       "    </tr>\n",
       "    <tr>\n",
       "      <th>4</th>\n",
       "      <td>Cheeseburger In Paradise</td>\n",
       "      <td>Jimmy Buffett</td>\n",
       "    </tr>\n",
       "  </tbody>\n",
       "</table>\n",
       "</div>"
      ],
      "text/plain": [
       "                        Title                Artist\n",
       "0              Margaritaville         Jimmy Buffett\n",
       "1                 Come Monday         Jimmy Buffett\n",
       "2  Rich Men North of Richmond  Oliver Anthony Music\n",
       "3                    All Star           Smash Mouth\n",
       "4    Cheeseburger In Paradise         Jimmy Buffett"
      ]
     },
     "execution_count": 26,
     "metadata": {},
     "output_type": "execute_result"
    }
   ],
   "source": [
    "df1.head()"
   ]
  },
  {
   "cell_type": "code",
   "execution_count": 30,
   "id": "efa64952",
   "metadata": {},
   "outputs": [
    {
     "data": {
      "text/html": [
       "<div>\n",
       "<style scoped>\n",
       "    .dataframe tbody tr th:only-of-type {\n",
       "        vertical-align: middle;\n",
       "    }\n",
       "\n",
       "    .dataframe tbody tr th {\n",
       "        vertical-align: top;\n",
       "    }\n",
       "\n",
       "    .dataframe thead th {\n",
       "        text-align: right;\n",
       "    }\n",
       "</style>\n",
       "<table border=\"1\" class=\"dataframe\">\n",
       "  <thead>\n",
       "    <tr style=\"text-align: right;\">\n",
       "      <th></th>\n",
       "      <th>artists</th>\n",
       "      <th>track_name</th>\n",
       "      <th>clusters</th>\n",
       "    </tr>\n",
       "  </thead>\n",
       "  <tbody>\n",
       "    <tr>\n",
       "      <th>0</th>\n",
       "      <td>Queen</td>\n",
       "      <td>Bohemian Rhapsody - Remastered 2011</td>\n",
       "      <td>1</td>\n",
       "    </tr>\n",
       "    <tr>\n",
       "      <th>1</th>\n",
       "      <td>Deep Purple</td>\n",
       "      <td>Child in Time</td>\n",
       "      <td>0</td>\n",
       "    </tr>\n",
       "    <tr>\n",
       "      <th>2</th>\n",
       "      <td>Meat Loaf</td>\n",
       "      <td>Paradise By the Dashboard Light</td>\n",
       "      <td>2</td>\n",
       "    </tr>\n",
       "    <tr>\n",
       "      <th>3</th>\n",
       "      <td>The Moody Blues</td>\n",
       "      <td>Nights In White Satin - Single Version / Mono</td>\n",
       "      <td>0</td>\n",
       "    </tr>\n",
       "    <tr>\n",
       "      <th>4</th>\n",
       "      <td>Aphrodite's Child</td>\n",
       "      <td>Rain And Tears</td>\n",
       "      <td>1</td>\n",
       "    </tr>\n",
       "  </tbody>\n",
       "</table>\n",
       "</div>"
      ],
      "text/plain": [
       "             artists                                     track_name  clusters\n",
       "0              Queen            Bohemian Rhapsody - Remastered 2011         1\n",
       "1        Deep Purple                                  Child in Time         0\n",
       "2          Meat Loaf                Paradise By the Dashboard Light         2\n",
       "3    The Moody Blues  Nights In White Satin - Single Version / Mono         0\n",
       "4  Aphrodite's Child                                 Rain And Tears         1"
      ]
     },
     "execution_count": 30,
     "metadata": {},
     "output_type": "execute_result"
    }
   ],
   "source": [
    "df2.head()"
   ]
  },
  {
   "cell_type": "code",
   "execution_count": 12,
   "id": "793fde9b",
   "metadata": {
    "scrolled": true
   },
   "outputs": [
    {
     "name": "stdout",
     "output_type": "stream",
     "text": [
      "(600, 2)\n",
      "(124643, 3)\n"
     ]
    }
   ],
   "source": [
    "print(df1.shape)\n",
    "print(df2.shape)"
   ]
  },
  {
   "cell_type": "code",
   "execution_count": 4,
   "id": "ed839ceb",
   "metadata": {},
   "outputs": [],
   "source": [
    "song_name = input(\"Please enter the name of a song: \")\n",
    "\n",
    "# Check if the input contains at least one alphabetical character and/or alphanumeric character\n",
    "if any(c.isalpha() for c in song_name) and any(c.isalnum() for c in song_name):\n",
    "    print(f\"You entered a valid song name: {song_name}\")\n",
    "else:\n",
    "    print(\"Invalid input. Please enter a song name containing letters and/or numbers.\")"
   ]
  },
  {
   "cell_type": "code",
   "execution_count": 63,
   "id": "a99e8adb",
   "metadata": {},
   "outputs": [],
   "source": [
    "def recommender(song, df1, df2):\n",
    "    \n",
    "    # Load Spotify secrets\n",
    "    secrets_file = open(\"secrets.txt\", \"r\")\n",
    "    string = secrets_file.read()\n",
    "    secrets_dict = {}\n",
    "    for line in string.split('\\n'):\n",
    "        if len(line) > 0:\n",
    "            secrets_dict[line.split(':')[0]] = line.split(':')[1].strip()\n",
    "\n",
    "    sp = spotipy.Spotify(auth_manager=SpotifyClientCredentials(client_id=secrets_dict['clientid'],\n",
    "                                                               client_secret=secrets_dict['clientsecret']))\n",
    "\n",
    "    results = sp.search(q='track:' + song, type='track')\n",
    "    track = pd.json_normalize(results[\"tracks\"][\"items\"])\n",
    "    if not track.empty:\n",
    "        song_id = track.iloc[0]['id']\n",
    "    else:\n",
    "        print(\"Song not found in Spotify.\")\n",
    "        return\n",
    "    audio_features_list = sp.audio_features(song_id)\n",
    "    audio_features_df = pd.json_normalize(audio_features_list)\n",
    "    \n",
    "    audio_features_df = audio_features_df[['duration_ms', 'danceability',\n",
    "                                           'energy', 'key', 'loudness', 'mode', 'speechiness', 'acousticness',\n",
    "                                           'instrumentalness', 'liveness', 'valence', 'tempo', 'time_signature']]\n",
    "\n",
    "    # Load scaler and transform data\n",
    "    with open('scaler.pkl', 'rb') as f:\n",
    "        loaded_scaler = pickle.load(f)\n",
    "        X = loaded_scaler.transform(audio_features_df)\n",
    "    \n",
    "    # Load KMeans model and predict cluster\n",
    "    with open('kmeans.pkl', 'rb') as f:\n",
    "        loaded_kmeans = pickle.load(f)\n",
    "        clusters = loaded_kmeans.predict(X)\n",
    "        \n",
    "    matching_song = df1[(df1['Title'].str.lower() == song.lower())]\n",
    "\n",
    "    if not matching_song.empty:\n",
    "        print(f\"The song '{matching_song['Title'].values[0]}' by {matching_song['Artist'].values[0]} matches your input.\")\n",
    "\n",
    "        recommended_song = df1[df1['Title'].str.lower() != song].sample(1)\n",
    "        print(f\"Here's a recommended song: '{recommended_song['Title'].values[0]}' by {recommended_song['Artist'].values[0]}\")\n",
    "    else:\n",
    "        cluster_df = df2[df2['clusters'] == clusters[0]]\n",
    "        recommended_song2 = cluster_df[cluster_df['track_name'].str.lower() != song].sample(1)\n",
    "        print(f\"Here's a recommended song: '{recommended_song2['track_name'].values[0]}' by {recommended_song2['artists'].values[0]}\")"
   ]
  },
  {
   "cell_type": "code",
   "execution_count": 65,
   "id": "b2b714ef",
   "metadata": {
    "scrolled": true
   },
   "outputs": [
    {
     "name": "stdout",
     "output_type": "stream",
     "text": [
      "Please enter the name of a song: falling in love with you\n",
      "Here's a recommended song: 'Sétimo Céu - Ao Vivo' by Geraldo Azevedo\n"
     ]
    }
   ],
   "source": [
    "song_name = input(\"Please enter the name of a song: \")\n",
    "recommender(song_name,df1,df2)"
   ]
  },
  {
   "cell_type": "code",
   "execution_count": null,
   "id": "45330b16",
   "metadata": {},
   "outputs": [],
   "source": []
  }
 ],
 "metadata": {
  "kernelspec": {
   "display_name": "Python 3 (ipykernel)",
   "language": "python",
   "name": "python3"
  },
  "language_info": {
   "codemirror_mode": {
    "name": "ipython",
    "version": 3
   },
   "file_extension": ".py",
   "mimetype": "text/x-python",
   "name": "python",
   "nbconvert_exporter": "python",
   "pygments_lexer": "ipython3",
   "version": "3.11.3"
  }
 },
 "nbformat": 4,
 "nbformat_minor": 5
}
