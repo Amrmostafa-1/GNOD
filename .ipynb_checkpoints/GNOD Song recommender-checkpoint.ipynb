{
 "cells": [
  {
   "cell_type": "code",
   "execution_count": 1,
   "id": "09f3208b",
   "metadata": {},
   "outputs": [],
   "source": [
    "import pandas as pd\n",
    "import spotipy\n",
    "from spotipy.oauth2 import SpotifyClientCredentials\n",
    "from pandas import json_normalize\n",
    "import pickle"
   ]
  },
  {
   "cell_type": "code",
   "execution_count": 2,
   "id": "d74b7cbb",
   "metadata": {},
   "outputs": [],
   "source": [
    "df1 = pd.read_csv('Top all.csv')\n",
    "df2 = pd.read_csv('Song_Clusters.csv')"
   ]
  },
  {
   "cell_type": "code",
   "execution_count": 11,
   "id": "5fb661b7",
   "metadata": {},
   "outputs": [],
   "source": [
    "#df1.head()"
   ]
  },
  {
   "cell_type": "code",
   "execution_count": 12,
   "id": "afe79909",
   "metadata": {},
   "outputs": [],
   "source": [
    "#df2.head()"
   ]
  },
  {
   "cell_type": "code",
   "execution_count": 5,
   "id": "0b497564",
   "metadata": {
    "scrolled": true
   },
   "outputs": [
    {
     "name": "stdout",
     "output_type": "stream",
     "text": [
      "(600, 2)\n",
      "(124643, 3)\n"
     ]
    }
   ],
   "source": [
    "#print(df1.shape)\n",
    "#print(df2.shape)"
   ]
  },
  {
   "cell_type": "markdown",
   "id": "d53db2d0",
   "metadata": {},
   "source": [
    "## First try to combine the code\n",
    "(The user input was outside the function)"
   ]
  },
  {
   "cell_type": "markdown",
   "id": "06205ca0",
   "metadata": {},
   "source": [
    "song_name = input(\"Please enter the name of a song: \")\n",
    "\n",
    "#Check if the input contains at least one alphabetical character and/or alphanumeric character\n",
    "if any(c.isalpha() for c in song_name) and any(c.isalnum() for c in song_name):\n",
    "    print(f\"You entered a valid song name: {song_name}\")\n",
    "else:\n",
    "    print(\"Invalid input. Please enter a song name containing letters and/or numbers.\")"
   ]
  },
  {
   "cell_type": "markdown",
   "id": "582456a4",
   "metadata": {},
   "source": [
    "def recommender(song, df1, df2):\n",
    "    \n",
    "    # Load Spotify secrets\n",
    "    secrets_file = open(\"secrets.txt\", \"r\")\n",
    "    string = secrets_file.read()\n",
    "    secrets_dict = {}\n",
    "    for line in string.split('\\n'):\n",
    "        if len(line) > 0:\n",
    "            secrets_dict[line.split(':')[0]] = line.split(':')[1].strip()\n",
    "\n",
    "    sp = spotipy.Spotify(auth_manager=SpotifyClientCredentials(client_id=secrets_dict['clientid'],\n",
    "                                                               client_secret=secrets_dict['clientsecret']))\n",
    "\n",
    "    results = sp.search(q='track:' + song, type='track')\n",
    "    track = pd.json_normalize(results[\"tracks\"][\"items\"])\n",
    "    if not track.empty:\n",
    "        song_id = track.iloc[0]['id']\n",
    "    else:\n",
    "        print(\"Song not found in Spotify.\")\n",
    "        return\n",
    "    audio_features_list = sp.audio_features(song_id)\n",
    "    audio_features_df = pd.json_normalize(audio_features_list)\n",
    "    \n",
    "    audio_features_df = audio_features_df[['duration_ms', 'danceability',\n",
    "                                           'energy', 'key', 'loudness', 'mode', 'speechiness', 'acousticness',\n",
    "                                           'instrumentalness', 'liveness', 'valence', 'tempo', 'time_signature']]\n",
    "\n",
    "    # Load scaler and transform data\n",
    "    with open('scaler.pkl', 'rb') as f:\n",
    "        loaded_scaler = pickle.load(f)\n",
    "        X = loaded_scaler.transform(audio_features_df)\n",
    "    \n",
    "    # Load KMeans model and predict cluster\n",
    "    with open('kmeans.pkl', 'rb') as f:\n",
    "        loaded_kmeans = pickle.load(f)\n",
    "        clusters = loaded_kmeans.predict(X)\n",
    "        \n",
    "    matching_song = df1[(df1['Title'].str.lower() == song.lower())]\n",
    "\n",
    "    if not matching_song.empty:\n",
    "        print(f\"The song '{matching_song['Title'].values[0]}' by {matching_song['Artist'].values[0]} matches your input.\")\n",
    "\n",
    "        recommended_song = df1[df1['Title'].str.lower() != song].sample(1)\n",
    "        print(f\"Here's a recommended song: '{recommended_song['Title'].values[0]}' by {recommended_song['Artist'].values[0]}\")\n",
    "    else:\n",
    "        cluster_df = df2[df2['clusters'] == clusters[0]]\n",
    "        recommended_song2 = cluster_df[cluster_df['track_name'].str.lower() != song].sample(1)\n",
    "        print(f\"Here's a recommended song: '{recommended_song2['track_name'].values[0]}' by {recommended_song2['artists'].values[0]}\")"
   ]
  },
  {
   "cell_type": "code",
   "execution_count": 13,
   "id": "d16c0087",
   "metadata": {
    "scrolled": true
   },
   "outputs": [],
   "source": [
    "#song_name = input(\"Please enter the name of a song: \")\n",
    "#recommender(song_name,df1,df2)"
   ]
  },
  {
   "cell_type": "markdown",
   "id": "7544ad80",
   "metadata": {},
   "source": [
    "## Final version"
   ]
  },
  {
   "cell_type": "code",
   "execution_count": 18,
   "id": "12f08af8",
   "metadata": {},
   "outputs": [],
   "source": [
    "def recommender(df1, df2):\n",
    "    \n",
    "    song = input(\"Please enter the name of a song: \")\n",
    "\n",
    "    # Check if the input contains at least one alphabetical character and/or alphanumeric character\n",
    "    if not (any(c.isalpha() for c in song_name) and any(c.isalnum() for c in song)):\n",
    "        print(\"Invalid input. Please enter a song name containing letters and/or numbers.\")\n",
    "        return\n",
    "    \n",
    "    print(f\"You entered a valid song name: {song}\")\n",
    "  \n",
    "\n",
    "    while True:  # This loop will continue to run until \"ok\" is entered by the user\n",
    "        \n",
    "        # Load Spotify secrets\n",
    "        secrets_file = open(\"secrets.txt\", \"r\")\n",
    "        string = secrets_file.read()\n",
    "        secrets_dict = {}\n",
    "        for line in string.split('\\n'):\n",
    "            if len(line) > 0:\n",
    "                secrets_dict[line.split(':')[0]] = line.split(':')[1].strip()\n",
    "\n",
    "        sp = spotipy.Spotify(auth_manager=SpotifyClientCredentials(client_id=secrets_dict['clientid'],\n",
    "                                                               client_secret=secrets_dict['clientsecret']))\n",
    "\n",
    "        results = sp.search(q='track:' + song, type='track')\n",
    "        track = pd.json_normalize(results[\"tracks\"][\"items\"])\n",
    "        if not track.empty:\n",
    "            song_id = track.iloc[0]['id']\n",
    "            song_url = track.iloc[0]['external_urls.spotify']\n",
    "        else:\n",
    "            print(\"Song not found in Spotify.\")\n",
    "            return\n",
    "        audio_features_list = sp.audio_features(song_id)\n",
    "        audio_features_df = pd.json_normalize(audio_features_list)\n",
    "    \n",
    "        audio_features_df = audio_features_df[['duration_ms', 'danceability',\n",
    "                                           'energy', 'key', 'loudness', 'mode', 'speechiness', 'acousticness',\n",
    "                                           'instrumentalness', 'liveness', 'valence', 'tempo', 'time_signature']]\n",
    "\n",
    "        # Load scaler and transform data\n",
    "        with open('scaler.pkl', 'rb') as f:\n",
    "            loaded_scaler = pickle.load(f)\n",
    "            X = loaded_scaler.transform(audio_features_df)\n",
    "    \n",
    "        # Load KMeans model and predict cluster\n",
    "        with open('kmeans.pkl', 'rb') as f:\n",
    "            loaded_kmeans = pickle.load(f)\n",
    "            clusters = loaded_kmeans.predict(X)\n",
    "        \n",
    "        matching_song = df1[(df1['Title'].str.lower() == song.lower())]\n",
    "\n",
    "        if not matching_song.empty:\n",
    "            print(f\"The song '{matching_song['Title'].values[0]}' by {matching_song['Artist'].values[0]} matches your input.\")\n",
    "\n",
    "            recommended_song = df1[df1['Title'].str.lower() != song].sample(1)\n",
    "            print(f\"Here's a recommended song: '{recommended_song['Title'].values[0]}' by {recommended_song['Artist'].values[0]}\")\n",
    "            results2 = sp.search(q='track:' + recommended_song['Title'].values[0], type='track')\n",
    "            track2 = pd.json_normalize(results2[\"tracks\"][\"items\"])\n",
    "            song_url = track2.iloc[0]['external_urls.spotify']\n",
    "            print(f\"Here's a url of the song: {song_url}\")\n",
    "        else:\n",
    "            cluster_df = df2[df2['clusters'] == clusters[0]]\n",
    "            recommended_song2 = cluster_df[cluster_df['track_name'].str.lower() != song].sample(1)\n",
    "            print(f\"Here's a recommended song: '{recommended_song2['track_name'].values[0]}' by {recommended_song2['artists'].values[0]}\")\n",
    "        \n",
    "            results3 = sp.search(q='track:' + recommended_song2['track_name'].values[0], type='track')\n",
    "            track3 = pd.json_normalize(results3[\"tracks\"][\"items\"])\n",
    "            song_url = track3.iloc[0]['external_urls.spotify']\n",
    "            print(f\"Here's a url of the song: {song_url}\")\n",
    "            \n",
    "        user_feedback = input(\"If you want another recommendation, type 'next'. If you're satisfied, type 'ok': \").strip().lower()\n",
    "        \n",
    "        if user_feedback == 'ok':\n",
    "            break\n",
    "        elif user_feedback == 'next':\n",
    "            continue\n",
    "        else:\n",
    "            print(\"Invalid input. Please type 'next' or 'ok'.\")"
   ]
  },
  {
   "cell_type": "code",
   "execution_count": 19,
   "id": "bb86f63f",
   "metadata": {},
   "outputs": [
    {
     "name": "stdout",
     "output_type": "stream",
     "text": [
      "Please enter the name of a song: thriller\n",
      "You entered a valid song name: thriller\n",
      "Here's a recommended song: 'Devour - Live from Washington State' by Shinedown\n",
      "Here's a url of the song: https://open.spotify.com/track/5xiAcvS8jPpJaaSv1BWAGa\n",
      "If you want another recommendation, type 'next'. If you're satisfied, type 'ok': next\n",
      "Here's a recommended song: 'Las Batallas/Rarotonga - MTV Unplugged' by Café Tacvba\n",
      "Here's a url of the song: https://open.spotify.com/track/0b0x5fdpSjvJ8LiYSPnWoF\n",
      "If you want another recommendation, type 'next'. If you're satisfied, type 'ok': ok\n"
     ]
    }
   ],
   "source": [
    "recommender(df1,df2)"
   ]
  },
  {
   "cell_type": "code",
   "execution_count": null,
   "id": "21356061",
   "metadata": {},
   "outputs": [],
   "source": []
  }
 ],
 "metadata": {
  "kernelspec": {
   "display_name": "Python 3 (ipykernel)",
   "language": "python",
   "name": "python3"
  },
  "language_info": {
   "codemirror_mode": {
    "name": "ipython",
    "version": 3
   },
   "file_extension": ".py",
   "mimetype": "text/x-python",
   "name": "python",
   "nbconvert_exporter": "python",
   "pygments_lexer": "ipython3",
   "version": "3.11.3"
  }
 },
 "nbformat": 4,
 "nbformat_minor": 5
}
