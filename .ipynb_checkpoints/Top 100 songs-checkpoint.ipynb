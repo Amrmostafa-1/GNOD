{
 "cells": [
  {
   "cell_type": "markdown",
   "id": "4de00345",
   "metadata": {},
   "source": [
    "## lab-web-scraping-single-page"
   ]
  },
  {
   "cell_type": "code",
   "execution_count": 1,
   "id": "9b6a2109",
   "metadata": {},
   "outputs": [],
   "source": [
    "from bs4 import BeautifulSoup\n",
    "import requests\n",
    "import pandas as pd"
   ]
  },
  {
   "cell_type": "code",
   "execution_count": 2,
   "id": "14cd259d",
   "metadata": {},
   "outputs": [],
   "source": [
    "url = \"http://www.popvortex.com/music/charts/top-100-songs.php\""
   ]
  },
  {
   "cell_type": "code",
   "execution_count": 3,
   "id": "ff0be37f",
   "metadata": {},
   "outputs": [
    {
     "data": {
      "text/plain": [
       "200"
      ]
     },
     "execution_count": 3,
     "metadata": {},
     "output_type": "execute_result"
    }
   ],
   "source": [
    "response = requests.get(url)\n",
    "response.status_code"
   ]
  },
  {
   "cell_type": "code",
   "execution_count": 4,
   "id": "45bdefe8",
   "metadata": {},
   "outputs": [],
   "source": [
    "#response.content"
   ]
  },
  {
   "cell_type": "code",
   "execution_count": 5,
   "id": "c857d77c",
   "metadata": {},
   "outputs": [],
   "source": [
    "soup = BeautifulSoup(response.content, \"html.parser\")"
   ]
  },
  {
   "cell_type": "code",
   "execution_count": 6,
   "id": "9efd1629",
   "metadata": {},
   "outputs": [],
   "source": [
    "artist = []\n",
    "for a in soup.select(\".artist\"):\n",
    "    artist.append(a.get_text())"
   ]
  },
  {
   "cell_type": "code",
   "execution_count": 7,
   "id": "7d6aa20c",
   "metadata": {},
   "outputs": [],
   "source": [
    "#artist"
   ]
  },
  {
   "cell_type": "code",
   "execution_count": 8,
   "id": "82653542",
   "metadata": {},
   "outputs": [],
   "source": [
    "title = []\n",
    "for t in soup.select(\".title\"):\n",
    "    title.append(t.get_text())"
   ]
  },
  {
   "cell_type": "code",
   "execution_count": 9,
   "id": "49389cec",
   "metadata": {},
   "outputs": [],
   "source": [
    "#title"
   ]
  },
  {
   "cell_type": "code",
   "execution_count": 10,
   "id": "789aefa8",
   "metadata": {},
   "outputs": [
    {
     "data": {
      "text/html": [
       "<div>\n",
       "<style scoped>\n",
       "    .dataframe tbody tr th:only-of-type {\n",
       "        vertical-align: middle;\n",
       "    }\n",
       "\n",
       "    .dataframe tbody tr th {\n",
       "        vertical-align: top;\n",
       "    }\n",
       "\n",
       "    .dataframe thead th {\n",
       "        text-align: right;\n",
       "    }\n",
       "</style>\n",
       "<table border=\"1\" class=\"dataframe\">\n",
       "  <thead>\n",
       "    <tr style=\"text-align: right;\">\n",
       "      <th></th>\n",
       "      <th>Title</th>\n",
       "      <th>Artist</th>\n",
       "    </tr>\n",
       "  </thead>\n",
       "  <tbody>\n",
       "    <tr>\n",
       "      <th>0</th>\n",
       "      <td>Margaritaville</td>\n",
       "      <td>Jimmy Buffett</td>\n",
       "    </tr>\n",
       "    <tr>\n",
       "      <th>1</th>\n",
       "      <td>Come Monday</td>\n",
       "      <td>Jimmy Buffett</td>\n",
       "    </tr>\n",
       "    <tr>\n",
       "      <th>2</th>\n",
       "      <td>Rich Men North of Richmond</td>\n",
       "      <td>Oliver Anthony Music</td>\n",
       "    </tr>\n",
       "    <tr>\n",
       "      <th>3</th>\n",
       "      <td>Cheeseburger In Paradise</td>\n",
       "      <td>Jimmy Buffett</td>\n",
       "    </tr>\n",
       "    <tr>\n",
       "      <th>4</th>\n",
       "      <td>Changes In Latitudes, Changes In Attitudes</td>\n",
       "      <td>Jimmy Buffett</td>\n",
       "    </tr>\n",
       "    <tr>\n",
       "      <th>...</th>\n",
       "      <td>...</td>\n",
       "      <td>...</td>\n",
       "    </tr>\n",
       "    <tr>\n",
       "      <th>95</th>\n",
       "      <td>august</td>\n",
       "      <td>Taylor Swift</td>\n",
       "    </tr>\n",
       "    <tr>\n",
       "      <th>96</th>\n",
       "      <td>Changes In Latitudes, Changes In Attitudes</td>\n",
       "      <td>Jimmy Buffett</td>\n",
       "    </tr>\n",
       "    <tr>\n",
       "      <th>97</th>\n",
       "      <td>Unstoppable</td>\n",
       "      <td>Sia</td>\n",
       "    </tr>\n",
       "    <tr>\n",
       "      <th>98</th>\n",
       "      <td>Bring Me to Life</td>\n",
       "      <td>Evanescence</td>\n",
       "    </tr>\n",
       "    <tr>\n",
       "      <th>99</th>\n",
       "      <td>Demons</td>\n",
       "      <td>Doja Cat</td>\n",
       "    </tr>\n",
       "  </tbody>\n",
       "</table>\n",
       "<p>100 rows × 2 columns</p>\n",
       "</div>"
      ],
      "text/plain": [
       "                                         Title                Artist\n",
       "0                               Margaritaville         Jimmy Buffett\n",
       "1                                  Come Monday         Jimmy Buffett\n",
       "2                   Rich Men North of Richmond  Oliver Anthony Music\n",
       "3                     Cheeseburger In Paradise         Jimmy Buffett\n",
       "4   Changes In Latitudes, Changes In Attitudes         Jimmy Buffett\n",
       "..                                         ...                   ...\n",
       "95                                      august          Taylor Swift\n",
       "96  Changes In Latitudes, Changes In Attitudes         Jimmy Buffett\n",
       "97                                 Unstoppable                   Sia\n",
       "98                            Bring Me to Life           Evanescence\n",
       "99                                      Demons              Doja Cat\n",
       "\n",
       "[100 rows x 2 columns]"
      ]
     },
     "execution_count": 10,
     "metadata": {},
     "output_type": "execute_result"
    }
   ],
   "source": [
    "top = pd.DataFrame({\"Title\":title,\"Artist\":artist})\n",
    "top"
   ]
  },
  {
   "cell_type": "code",
   "execution_count": 11,
   "id": "d18e14f4",
   "metadata": {},
   "outputs": [],
   "source": [
    "# To add another column if needed\n",
    "#top['Position'] = range(1, 101)\n",
    "#top = top[['Position','Title','Artist']]\n",
    "#top"
   ]
  },
  {
   "cell_type": "code",
   "execution_count": 12,
   "id": "7f03037e",
   "metadata": {},
   "outputs": [
    {
     "data": {
      "text/html": [
       "<div>\n",
       "<style scoped>\n",
       "    .dataframe tbody tr th:only-of-type {\n",
       "        vertical-align: middle;\n",
       "    }\n",
       "\n",
       "    .dataframe tbody tr th {\n",
       "        vertical-align: top;\n",
       "    }\n",
       "\n",
       "    .dataframe thead th {\n",
       "        text-align: right;\n",
       "    }\n",
       "</style>\n",
       "<table border=\"1\" class=\"dataframe\">\n",
       "  <thead>\n",
       "    <tr style=\"text-align: right;\">\n",
       "      <th></th>\n",
       "      <th>Title</th>\n",
       "      <th>Artist</th>\n",
       "    </tr>\n",
       "  </thead>\n",
       "  <tbody>\n",
       "    <tr>\n",
       "      <th>1</th>\n",
       "      <td>Margaritaville</td>\n",
       "      <td>Jimmy Buffett</td>\n",
       "    </tr>\n",
       "    <tr>\n",
       "      <th>2</th>\n",
       "      <td>Come Monday</td>\n",
       "      <td>Jimmy Buffett</td>\n",
       "    </tr>\n",
       "    <tr>\n",
       "      <th>3</th>\n",
       "      <td>Rich Men North of Richmond</td>\n",
       "      <td>Oliver Anthony Music</td>\n",
       "    </tr>\n",
       "    <tr>\n",
       "      <th>4</th>\n",
       "      <td>Cheeseburger In Paradise</td>\n",
       "      <td>Jimmy Buffett</td>\n",
       "    </tr>\n",
       "    <tr>\n",
       "      <th>5</th>\n",
       "      <td>Changes In Latitudes, Changes In Attitudes</td>\n",
       "      <td>Jimmy Buffett</td>\n",
       "    </tr>\n",
       "    <tr>\n",
       "      <th>...</th>\n",
       "      <td>...</td>\n",
       "      <td>...</td>\n",
       "    </tr>\n",
       "    <tr>\n",
       "      <th>96</th>\n",
       "      <td>august</td>\n",
       "      <td>Taylor Swift</td>\n",
       "    </tr>\n",
       "    <tr>\n",
       "      <th>97</th>\n",
       "      <td>Changes In Latitudes, Changes In Attitudes</td>\n",
       "      <td>Jimmy Buffett</td>\n",
       "    </tr>\n",
       "    <tr>\n",
       "      <th>98</th>\n",
       "      <td>Unstoppable</td>\n",
       "      <td>Sia</td>\n",
       "    </tr>\n",
       "    <tr>\n",
       "      <th>99</th>\n",
       "      <td>Bring Me to Life</td>\n",
       "      <td>Evanescence</td>\n",
       "    </tr>\n",
       "    <tr>\n",
       "      <th>100</th>\n",
       "      <td>Demons</td>\n",
       "      <td>Doja Cat</td>\n",
       "    </tr>\n",
       "  </tbody>\n",
       "</table>\n",
       "<p>100 rows × 2 columns</p>\n",
       "</div>"
      ],
      "text/plain": [
       "                                          Title                Artist\n",
       "1                                Margaritaville         Jimmy Buffett\n",
       "2                                   Come Monday         Jimmy Buffett\n",
       "3                    Rich Men North of Richmond  Oliver Anthony Music\n",
       "4                      Cheeseburger In Paradise         Jimmy Buffett\n",
       "5    Changes In Latitudes, Changes In Attitudes         Jimmy Buffett\n",
       "..                                          ...                   ...\n",
       "96                                       august          Taylor Swift\n",
       "97   Changes In Latitudes, Changes In Attitudes         Jimmy Buffett\n",
       "98                                  Unstoppable                   Sia\n",
       "99                             Bring Me to Life           Evanescence\n",
       "100                                      Demons              Doja Cat\n",
       "\n",
       "[100 rows x 2 columns]"
      ]
     },
     "execution_count": 12,
     "metadata": {},
     "output_type": "execute_result"
    }
   ],
   "source": [
    "top.index = top.index + 1\n",
    "top"
   ]
  },
  {
   "cell_type": "markdown",
   "id": "c8f979b0",
   "metadata": {},
   "source": [
    "## Getting Another Top Songs List"
   ]
  },
  {
   "cell_type": "code",
   "execution_count": 13,
   "id": "4a0d869c",
   "metadata": {},
   "outputs": [],
   "source": [
    "# list to go through pages\n",
    "iterations = range(1,6)"
   ]
  },
  {
   "cell_type": "code",
   "execution_count": 14,
   "id": "8af8d6e6",
   "metadata": {},
   "outputs": [],
   "source": [
    "from time import sleep\n",
    "from random import randint"
   ]
  },
  {
   "cell_type": "code",
   "execution_count": 15,
   "id": "9c3a1cec",
   "metadata": {},
   "outputs": [
    {
     "name": "stdout",
     "output_type": "stream",
     "text": [
      "Status code: 200\n",
      "https://www.poplist.de/poplist.php?site=1&var1=%20AND%20(tab_list_type.ID%20=%20466)&var4=Rolling%20Stone%20(2004)%20Die%20500%20besten%20Songs%20aller%20Zeiten%20-%20Kritiker&var5=Best-of-Lists%20from%20German%20Music%20Magazines%20-%20%20The%20500%20Best%20Songs%20of%20All%20Time&var10=Rolling%20Stone%20(2004)%20Die%20500%20besten%20Songs%20aller%20Zeiten,#list\n",
      "I will sleep for 3 second/s.\n",
      "Status code: 200\n",
      "https://www.poplist.de/poplist.php?site=2&var1=%20AND%20(tab_list_type.ID%20=%20466)&var4=Rolling%20Stone%20(2004)%20Die%20500%20besten%20Songs%20aller%20Zeiten%20-%20Kritiker&var5=Best-of-Lists%20from%20German%20Music%20Magazines%20-%20%20The%20500%20Best%20Songs%20of%20All%20Time&var10=Rolling%20Stone%20(2004)%20Die%20500%20besten%20Songs%20aller%20Zeiten,#list\n",
      "I will sleep for 1 second/s.\n",
      "Status code: 200\n",
      "https://www.poplist.de/poplist.php?site=3&var1=%20AND%20(tab_list_type.ID%20=%20466)&var4=Rolling%20Stone%20(2004)%20Die%20500%20besten%20Songs%20aller%20Zeiten%20-%20Kritiker&var5=Best-of-Lists%20from%20German%20Music%20Magazines%20-%20%20The%20500%20Best%20Songs%20of%20All%20Time&var10=Rolling%20Stone%20(2004)%20Die%20500%20besten%20Songs%20aller%20Zeiten,#list\n",
      "I will sleep for 1 second/s.\n",
      "Status code: 200\n",
      "https://www.poplist.de/poplist.php?site=4&var1=%20AND%20(tab_list_type.ID%20=%20466)&var4=Rolling%20Stone%20(2004)%20Die%20500%20besten%20Songs%20aller%20Zeiten%20-%20Kritiker&var5=Best-of-Lists%20from%20German%20Music%20Magazines%20-%20%20The%20500%20Best%20Songs%20of%20All%20Time&var10=Rolling%20Stone%20(2004)%20Die%20500%20besten%20Songs%20aller%20Zeiten,#list\n",
      "I will sleep for 1 second/s.\n",
      "Status code: 200\n",
      "https://www.poplist.de/poplist.php?site=5&var1=%20AND%20(tab_list_type.ID%20=%20466)&var4=Rolling%20Stone%20(2004)%20Die%20500%20besten%20Songs%20aller%20Zeiten%20-%20Kritiker&var5=Best-of-Lists%20from%20German%20Music%20Magazines%20-%20%20The%20500%20Best%20Songs%20of%20All%20Time&var10=Rolling%20Stone%20(2004)%20Die%20500%20besten%20Songs%20aller%20Zeiten,#list\n",
      "I will sleep for 3 second/s.\n"
     ]
    }
   ],
   "source": [
    "# get multiple pages\n",
    "\n",
    "pages = []\n",
    "\n",
    "for i in iterations:\n",
    "    # assemble the url:\n",
    "    start_at= str(i)\n",
    "    url = \"https://www.poplist.de/poplist.php?site=\"+start_at+\"&var1=%20AND%20(tab_list_type.ID%20=%20466)&var4=Rolling%20Stone%20(2004)%20Die%20500%20besten%20Songs%20aller%20Zeiten%20-%20Kritiker&var5=Best-of-Lists%20from%20German%20Music%20Magazines%20-%20%20The%20500%20Best%20Songs%20of%20All%20Time&var10=Rolling%20Stone%20(2004)%20Die%20500%20besten%20Songs%20aller%20Zeiten,#list\"\n",
    "    # download html with a get request:\n",
    "    response = requests.get(url)\n",
    "    #response = requests.get(url, headers = {\"Accept-Language\": \"en-US\"})\n",
    "\n",
    "    # monitor the process by printing the status code\n",
    "    print(\"Status code: \" + str(response.status_code))\n",
    "    print(url)\n",
    "    # store response into \"pages\" list\n",
    "    pages.append(response)\n",
    "\n",
    "    # respectful nap:\n",
    "    wait_time = randint(1,4)\n",
    "    print(\"I will sleep for \" + str(wait_time) + \" second/s.\")\n",
    "    sleep(wait_time)"
   ]
  },
  {
   "cell_type": "code",
   "execution_count": 37,
   "id": "16563947",
   "metadata": {},
   "outputs": [],
   "source": [
    "#print(BeautifulSoup(pages[0].content, \"html.parser\").prettify())"
   ]
  },
  {
   "cell_type": "code",
   "execution_count": 26,
   "id": "53fc0a52",
   "metadata": {},
   "outputs": [],
   "source": [
    "# Parse just the first page, for testing purposes\n",
    "soup = BeautifulSoup(pages[0].content, \"html.parser\")"
   ]
  },
  {
   "cell_type": "code",
   "execution_count": 18,
   "id": "b05ae7eb",
   "metadata": {},
   "outputs": [],
   "source": [
    "#title\n",
    "#listcontainer > table > tbody > tr:nth-child(2) > td:nth-child(8) > a\n",
    "#listcontainer > table > tbody > tr:nth-child(3) > td:nth-child(8) > a\n",
    "#listcontainer > table > tbody > tr:nth-child(101) > td:nth-child(8) > a\n",
    "\n",
    "#artist\n",
    "#listcontainer > table > tbody > tr:nth-child(2) > td.bestlist.thick > a\n",
    "#listcontainer > table > tbody > tr:nth-child(3) > td.bestlist.thick > a\n",
    "#listcontainer > table > tbody > tr:nth-child(101) > td.bestlist.thick > a"
   ]
  },
  {
   "cell_type": "code",
   "execution_count": 52,
   "id": "d8eda6e7",
   "metadata": {},
   "outputs": [],
   "source": [
    "#soup.select(\"td:nth-child(8) > a\")"
   ]
  },
  {
   "cell_type": "code",
   "execution_count": 53,
   "id": "8a5d3739",
   "metadata": {},
   "outputs": [
    {
     "ename": "AttributeError",
     "evalue": "'NoneType' object has no attribute 'strip'",
     "output_type": "error",
     "traceback": [
      "\u001b[0;31m---------------------------------------------------------------------------\u001b[0m",
      "\u001b[0;31mAttributeError\u001b[0m                            Traceback (most recent call last)",
      "Cell \u001b[0;32mIn[53], line 9\u001b[0m\n\u001b[1;32m      6\u001b[0m     \u001b[38;5;66;03m# select only the info about the titles\u001b[39;00m\n\u001b[1;32m      7\u001b[0m     \u001b[38;5;66;03m# put all titles in a list\u001b[39;00m\n\u001b[1;32m      8\u001b[0m     \u001b[38;5;28;01mfor\u001b[39;00m j \u001b[38;5;129;01min\u001b[39;00m soup\u001b[38;5;241m.\u001b[39mselect(\u001b[38;5;124m\"\u001b[39m\u001b[38;5;124mtd:nth-child(8) > a\u001b[39m\u001b[38;5;124m\"\u001b[39m):\n\u001b[0;32m----> 9\u001b[0m         titles\u001b[38;5;241m.\u001b[39mappend(j\u001b[38;5;241m.\u001b[39mget_text())\u001b[38;5;241m.\u001b[39mstrip()\n\u001b[1;32m     11\u001b[0m \u001b[38;5;66;03m# Checking our output:\u001b[39;00m\n\u001b[1;32m     13\u001b[0m \u001b[38;5;28mprint\u001b[39m(\u001b[38;5;28mlen\u001b[39m(titles))\n",
      "\u001b[0;31mAttributeError\u001b[0m: 'NoneType' object has no attribute 'strip'"
     ]
    }
   ],
   "source": [
    "titles = []\n",
    "\n",
    "for i in range(len(pages)):\n",
    "    # parse all pages\n",
    "    parsed = BeautifulSoup(pages[i].content, \"html.parser\")\n",
    "    # select only the info about the titles\n",
    "    # put all titles in a list\n",
    "    for j in soup.select(\"td:nth-child(8) > a\"):\n",
    "        titles.append(j.get_text())\n",
    "\n",
    "# Checking our output:\n",
    "\n",
    "print(len(titles))\n",
    "#print(len(synopsis))"
   ]
  },
  {
   "cell_type": "code",
   "execution_count": 46,
   "id": "747ab2ed",
   "metadata": {},
   "outputs": [
    {
     "name": "stdout",
     "output_type": "stream",
     "text": [
      "500\n"
     ]
    }
   ],
   "source": [
    "artists = []\n",
    "\n",
    "for i in range(len(pages)):\n",
    "    # parse all pages\n",
    "    parsed = BeautifulSoup(pages[i].content, \"html.parser\")\n",
    "    # select only the info about the artists\n",
    "    # put all titles in a list\n",
    "    for j in soup.select(\"td.bestlist.thick > a\"):\n",
    "        artists.append(j.get_text())\n",
    "\n",
    "\n",
    "# Checking our output:\n",
    "\n",
    "\n",
    "print(len(artists))"
   ]
  },
  {
   "cell_type": "code",
   "execution_count": 47,
   "id": "547ba8fe",
   "metadata": {},
   "outputs": [],
   "source": [
    "top2 = pd.DataFrame({\"Title\":titles,\"Artist\":artists})"
   ]
  },
  {
   "cell_type": "code",
   "execution_count": 48,
   "id": "750a1514",
   "metadata": {},
   "outputs": [
    {
     "data": {
      "text/html": [
       "<div>\n",
       "<style scoped>\n",
       "    .dataframe tbody tr th:only-of-type {\n",
       "        vertical-align: middle;\n",
       "    }\n",
       "\n",
       "    .dataframe tbody tr th {\n",
       "        vertical-align: top;\n",
       "    }\n",
       "\n",
       "    .dataframe thead th {\n",
       "        text-align: right;\n",
       "    }\n",
       "</style>\n",
       "<table border=\"1\" class=\"dataframe\">\n",
       "  <thead>\n",
       "    <tr style=\"text-align: right;\">\n",
       "      <th></th>\n",
       "      <th>Title</th>\n",
       "      <th>Artist</th>\n",
       "    </tr>\n",
       "  </thead>\n",
       "  <tbody>\n",
       "    <tr>\n",
       "      <th>0</th>\n",
       "      <td>Like A Rolling Stone</td>\n",
       "      <td>Bob Dylan</td>\n",
       "    </tr>\n",
       "    <tr>\n",
       "      <th>1</th>\n",
       "      <td>(I Can’t Get No) Satisfaction</td>\n",
       "      <td>The Rolling Stones</td>\n",
       "    </tr>\n",
       "    <tr>\n",
       "      <th>2</th>\n",
       "      <td>Good Vibrations</td>\n",
       "      <td>The Beach Boys</td>\n",
       "    </tr>\n",
       "    <tr>\n",
       "      <th>3</th>\n",
       "      <td>Imagine</td>\n",
       "      <td>John Lennon</td>\n",
       "    </tr>\n",
       "    <tr>\n",
       "      <th>4</th>\n",
       "      <td>Smells Like Teen Spirit</td>\n",
       "      <td>Nirvana</td>\n",
       "    </tr>\n",
       "    <tr>\n",
       "      <th>...</th>\n",
       "      <td>...</td>\n",
       "      <td>...</td>\n",
       "    </tr>\n",
       "    <tr>\n",
       "      <th>495</th>\n",
       "      <td>Political Science</td>\n",
       "      <td>Randy Newman</td>\n",
       "    </tr>\n",
       "    <tr>\n",
       "      <th>496</th>\n",
       "      <td>Desolation Row</td>\n",
       "      <td>Bob Dylan</td>\n",
       "    </tr>\n",
       "    <tr>\n",
       "      <th>497</th>\n",
       "      <td>Long Tall Sally</td>\n",
       "      <td>Little Richard</td>\n",
       "    </tr>\n",
       "    <tr>\n",
       "      <th>498</th>\n",
       "      <td>A Whiter Shade Of Pale</td>\n",
       "      <td>Procol Harum</td>\n",
       "    </tr>\n",
       "    <tr>\n",
       "      <th>499</th>\n",
       "      <td>The Times They Are A-Changin’</td>\n",
       "      <td>Bob Dylan</td>\n",
       "    </tr>\n",
       "  </tbody>\n",
       "</table>\n",
       "<p>500 rows × 2 columns</p>\n",
       "</div>"
      ],
      "text/plain": [
       "                             Title              Artist\n",
       "0             Like A Rolling Stone           Bob Dylan\n",
       "1    (I Can’t Get No) Satisfaction  The Rolling Stones\n",
       "2                  Good Vibrations      The Beach Boys\n",
       "3                          Imagine         John Lennon\n",
       "4          Smells Like Teen Spirit             Nirvana\n",
       "..                             ...                 ...\n",
       "495              Political Science        Randy Newman\n",
       "496                 Desolation Row           Bob Dylan\n",
       "497                Long Tall Sally      Little Richard\n",
       "498         A Whiter Shade Of Pale        Procol Harum\n",
       "499  The Times They Are A-Changin’           Bob Dylan\n",
       "\n",
       "[500 rows x 2 columns]"
      ]
     },
     "execution_count": 48,
     "metadata": {},
     "output_type": "execute_result"
    }
   ],
   "source": [
    "top2"
   ]
  },
  {
   "cell_type": "code",
   "execution_count": 50,
   "id": "ccd34433",
   "metadata": {},
   "outputs": [
    {
     "data": {
      "text/html": [
       "<div>\n",
       "<style scoped>\n",
       "    .dataframe tbody tr th:only-of-type {\n",
       "        vertical-align: middle;\n",
       "    }\n",
       "\n",
       "    .dataframe tbody tr th {\n",
       "        vertical-align: top;\n",
       "    }\n",
       "\n",
       "    .dataframe thead th {\n",
       "        text-align: right;\n",
       "    }\n",
       "</style>\n",
       "<table border=\"1\" class=\"dataframe\">\n",
       "  <thead>\n",
       "    <tr style=\"text-align: right;\">\n",
       "      <th></th>\n",
       "      <th>Title</th>\n",
       "      <th>Artist</th>\n",
       "    </tr>\n",
       "  </thead>\n",
       "  <tbody>\n",
       "    <tr>\n",
       "      <th>1</th>\n",
       "      <td>Like A Rolling Stone</td>\n",
       "      <td>Bob Dylan</td>\n",
       "    </tr>\n",
       "    <tr>\n",
       "      <th>2</th>\n",
       "      <td>(I Can’t Get No) Satisfaction</td>\n",
       "      <td>The Rolling Stones</td>\n",
       "    </tr>\n",
       "    <tr>\n",
       "      <th>3</th>\n",
       "      <td>Good Vibrations</td>\n",
       "      <td>The Beach Boys</td>\n",
       "    </tr>\n",
       "    <tr>\n",
       "      <th>4</th>\n",
       "      <td>Imagine</td>\n",
       "      <td>John Lennon</td>\n",
       "    </tr>\n",
       "    <tr>\n",
       "      <th>5</th>\n",
       "      <td>Smells Like Teen Spirit</td>\n",
       "      <td>Nirvana</td>\n",
       "    </tr>\n",
       "    <tr>\n",
       "      <th>...</th>\n",
       "      <td>...</td>\n",
       "      <td>...</td>\n",
       "    </tr>\n",
       "    <tr>\n",
       "      <th>496</th>\n",
       "      <td>Political Science</td>\n",
       "      <td>Randy Newman</td>\n",
       "    </tr>\n",
       "    <tr>\n",
       "      <th>497</th>\n",
       "      <td>Desolation Row</td>\n",
       "      <td>Bob Dylan</td>\n",
       "    </tr>\n",
       "    <tr>\n",
       "      <th>498</th>\n",
       "      <td>Long Tall Sally</td>\n",
       "      <td>Little Richard</td>\n",
       "    </tr>\n",
       "    <tr>\n",
       "      <th>499</th>\n",
       "      <td>A Whiter Shade Of Pale</td>\n",
       "      <td>Procol Harum</td>\n",
       "    </tr>\n",
       "    <tr>\n",
       "      <th>500</th>\n",
       "      <td>The Times They Are A-Changin’</td>\n",
       "      <td>Bob Dylan</td>\n",
       "    </tr>\n",
       "  </tbody>\n",
       "</table>\n",
       "<p>500 rows × 2 columns</p>\n",
       "</div>"
      ],
      "text/plain": [
       "                             Title              Artist\n",
       "1             Like A Rolling Stone           Bob Dylan\n",
       "2    (I Can’t Get No) Satisfaction  The Rolling Stones\n",
       "3                  Good Vibrations      The Beach Boys\n",
       "4                          Imagine         John Lennon\n",
       "5          Smells Like Teen Spirit             Nirvana\n",
       "..                             ...                 ...\n",
       "496              Political Science        Randy Newman\n",
       "497                 Desolation Row           Bob Dylan\n",
       "498                Long Tall Sally      Little Richard\n",
       "499         A Whiter Shade Of Pale        Procol Harum\n",
       "500  The Times They Are A-Changin’           Bob Dylan\n",
       "\n",
       "[500 rows x 2 columns]"
      ]
     },
     "execution_count": 50,
     "metadata": {},
     "output_type": "execute_result"
    }
   ],
   "source": [
    "top2.index = top2.index + 1\n",
    "top2"
   ]
  },
  {
   "cell_type": "code",
   "execution_count": null,
   "id": "e4a214f8",
   "metadata": {},
   "outputs": [],
   "source": []
  }
 ],
 "metadata": {
  "kernelspec": {
   "display_name": "Python 3 (ipykernel)",
   "language": "python",
   "name": "python3"
  },
  "language_info": {
   "codemirror_mode": {
    "name": "ipython",
    "version": 3
   },
   "file_extension": ".py",
   "mimetype": "text/x-python",
   "name": "python",
   "nbconvert_exporter": "python",
   "pygments_lexer": "ipython3",
   "version": "3.11.3"
  }
 },
 "nbformat": 4,
 "nbformat_minor": 5
}
