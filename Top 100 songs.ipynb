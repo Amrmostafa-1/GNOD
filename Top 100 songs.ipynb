{
 "cells": [
  {
   "cell_type": "markdown",
   "id": "4de00345",
   "metadata": {},
   "source": [
    "## lab-web-scraping-single-page"
   ]
  },
  {
   "cell_type": "code",
   "execution_count": 8,
   "id": "9b6a2109",
   "metadata": {},
   "outputs": [],
   "source": [
    "from bs4 import BeautifulSoup\n",
    "import requests\n",
    "import pandas as pd"
   ]
  },
  {
   "cell_type": "code",
   "execution_count": 9,
   "id": "14cd259d",
   "metadata": {},
   "outputs": [],
   "source": [
    "url = \"http://www.popvortex.com/music/charts/top-100-songs.php\""
   ]
  },
  {
   "cell_type": "code",
   "execution_count": 10,
   "id": "ff0be37f",
   "metadata": {},
   "outputs": [
    {
     "data": {
      "text/plain": [
       "200"
      ]
     },
     "execution_count": 10,
     "metadata": {},
     "output_type": "execute_result"
    }
   ],
   "source": [
    "response = requests.get(url)\n",
    "response.status_code"
   ]
  },
  {
   "cell_type": "code",
   "execution_count": 11,
   "id": "45bdefe8",
   "metadata": {},
   "outputs": [],
   "source": [
    "#response.content"
   ]
  },
  {
   "cell_type": "code",
   "execution_count": 12,
   "id": "c857d77c",
   "metadata": {},
   "outputs": [],
   "source": [
    "soup = BeautifulSoup(response.content, \"html.parser\")"
   ]
  },
  {
   "cell_type": "code",
   "execution_count": 13,
   "id": "9efd1629",
   "metadata": {},
   "outputs": [],
   "source": [
    "artist = []\n",
    "for a in soup.select(\".artist\"):\n",
    "    artist.append(a.get_text())"
   ]
  },
  {
   "cell_type": "code",
   "execution_count": 14,
   "id": "7d6aa20c",
   "metadata": {},
   "outputs": [],
   "source": [
    "#artist"
   ]
  },
  {
   "cell_type": "code",
   "execution_count": 15,
   "id": "82653542",
   "metadata": {},
   "outputs": [],
   "source": [
    "title = []\n",
    "for t in soup.select(\".title\"):\n",
    "    title.append(t.get_text())"
   ]
  },
  {
   "cell_type": "code",
   "execution_count": 16,
   "id": "49389cec",
   "metadata": {},
   "outputs": [],
   "source": [
    "#title"
   ]
  },
  {
   "cell_type": "code",
   "execution_count": 17,
   "id": "789aefa8",
   "metadata": {},
   "outputs": [
    {
     "data": {
      "text/html": [
       "<div>\n",
       "<style scoped>\n",
       "    .dataframe tbody tr th:only-of-type {\n",
       "        vertical-align: middle;\n",
       "    }\n",
       "\n",
       "    .dataframe tbody tr th {\n",
       "        vertical-align: top;\n",
       "    }\n",
       "\n",
       "    .dataframe thead th {\n",
       "        text-align: right;\n",
       "    }\n",
       "</style>\n",
       "<table border=\"1\" class=\"dataframe\">\n",
       "  <thead>\n",
       "    <tr style=\"text-align: right;\">\n",
       "      <th></th>\n",
       "      <th>Title</th>\n",
       "      <th>Artist</th>\n",
       "    </tr>\n",
       "  </thead>\n",
       "  <tbody>\n",
       "    <tr>\n",
       "      <th>0</th>\n",
       "      <td>Margaritaville</td>\n",
       "      <td>Jimmy Buffett</td>\n",
       "    </tr>\n",
       "    <tr>\n",
       "      <th>1</th>\n",
       "      <td>Come Monday</td>\n",
       "      <td>Jimmy Buffett</td>\n",
       "    </tr>\n",
       "    <tr>\n",
       "      <th>2</th>\n",
       "      <td>Rich Men North of Richmond</td>\n",
       "      <td>Oliver Anthony Music</td>\n",
       "    </tr>\n",
       "    <tr>\n",
       "      <th>3</th>\n",
       "      <td>All Star</td>\n",
       "      <td>Smash Mouth</td>\n",
       "    </tr>\n",
       "    <tr>\n",
       "      <th>4</th>\n",
       "      <td>Cheeseburger In Paradise</td>\n",
       "      <td>Jimmy Buffett</td>\n",
       "    </tr>\n",
       "    <tr>\n",
       "      <th>...</th>\n",
       "      <td>...</td>\n",
       "      <td>...</td>\n",
       "    </tr>\n",
       "    <tr>\n",
       "      <th>95</th>\n",
       "      <td>Thought You Should Know</td>\n",
       "      <td>Morgan Wallen</td>\n",
       "    </tr>\n",
       "    <tr>\n",
       "      <th>96</th>\n",
       "      <td>Dial Drunk</td>\n",
       "      <td>Noah Kahan &amp; Post Malone</td>\n",
       "    </tr>\n",
       "    <tr>\n",
       "      <th>97</th>\n",
       "      <td>bad idea right?</td>\n",
       "      <td>Olivia Rodrigo</td>\n",
       "    </tr>\n",
       "    <tr>\n",
       "      <th>98</th>\n",
       "      <td>august</td>\n",
       "      <td>Taylor Swift</td>\n",
       "    </tr>\n",
       "    <tr>\n",
       "      <th>99</th>\n",
       "      <td>Unstoppable</td>\n",
       "      <td>Sia</td>\n",
       "    </tr>\n",
       "  </tbody>\n",
       "</table>\n",
       "<p>100 rows × 2 columns</p>\n",
       "</div>"
      ],
      "text/plain": [
       "                         Title                    Artist\n",
       "0               Margaritaville             Jimmy Buffett\n",
       "1                  Come Monday             Jimmy Buffett\n",
       "2   Rich Men North of Richmond      Oliver Anthony Music\n",
       "3                     All Star               Smash Mouth\n",
       "4     Cheeseburger In Paradise             Jimmy Buffett\n",
       "..                         ...                       ...\n",
       "95     Thought You Should Know             Morgan Wallen\n",
       "96                  Dial Drunk  Noah Kahan & Post Malone\n",
       "97             bad idea right?            Olivia Rodrigo\n",
       "98                      august              Taylor Swift\n",
       "99                 Unstoppable                       Sia\n",
       "\n",
       "[100 rows x 2 columns]"
      ]
     },
     "execution_count": 17,
     "metadata": {},
     "output_type": "execute_result"
    }
   ],
   "source": [
    "top = pd.DataFrame({\"Title\":title,\"Artist\":artist})\n",
    "top"
   ]
  },
  {
   "cell_type": "code",
   "execution_count": 18,
   "id": "d18e14f4",
   "metadata": {},
   "outputs": [],
   "source": [
    "# To add another column if needed\n",
    "#top['Position'] = range(1, 101)\n",
    "#top = top[['Position','Title','Artist']]\n",
    "#top"
   ]
  },
  {
   "cell_type": "code",
   "execution_count": 19,
   "id": "7f03037e",
   "metadata": {},
   "outputs": [
    {
     "data": {
      "text/html": [
       "<div>\n",
       "<style scoped>\n",
       "    .dataframe tbody tr th:only-of-type {\n",
       "        vertical-align: middle;\n",
       "    }\n",
       "\n",
       "    .dataframe tbody tr th {\n",
       "        vertical-align: top;\n",
       "    }\n",
       "\n",
       "    .dataframe thead th {\n",
       "        text-align: right;\n",
       "    }\n",
       "</style>\n",
       "<table border=\"1\" class=\"dataframe\">\n",
       "  <thead>\n",
       "    <tr style=\"text-align: right;\">\n",
       "      <th></th>\n",
       "      <th>Title</th>\n",
       "      <th>Artist</th>\n",
       "    </tr>\n",
       "  </thead>\n",
       "  <tbody>\n",
       "    <tr>\n",
       "      <th>1</th>\n",
       "      <td>Margaritaville</td>\n",
       "      <td>Jimmy Buffett</td>\n",
       "    </tr>\n",
       "    <tr>\n",
       "      <th>2</th>\n",
       "      <td>Come Monday</td>\n",
       "      <td>Jimmy Buffett</td>\n",
       "    </tr>\n",
       "    <tr>\n",
       "      <th>3</th>\n",
       "      <td>Rich Men North of Richmond</td>\n",
       "      <td>Oliver Anthony Music</td>\n",
       "    </tr>\n",
       "    <tr>\n",
       "      <th>4</th>\n",
       "      <td>All Star</td>\n",
       "      <td>Smash Mouth</td>\n",
       "    </tr>\n",
       "    <tr>\n",
       "      <th>5</th>\n",
       "      <td>Cheeseburger In Paradise</td>\n",
       "      <td>Jimmy Buffett</td>\n",
       "    </tr>\n",
       "    <tr>\n",
       "      <th>...</th>\n",
       "      <td>...</td>\n",
       "      <td>...</td>\n",
       "    </tr>\n",
       "    <tr>\n",
       "      <th>96</th>\n",
       "      <td>Thought You Should Know</td>\n",
       "      <td>Morgan Wallen</td>\n",
       "    </tr>\n",
       "    <tr>\n",
       "      <th>97</th>\n",
       "      <td>Dial Drunk</td>\n",
       "      <td>Noah Kahan &amp; Post Malone</td>\n",
       "    </tr>\n",
       "    <tr>\n",
       "      <th>98</th>\n",
       "      <td>bad idea right?</td>\n",
       "      <td>Olivia Rodrigo</td>\n",
       "    </tr>\n",
       "    <tr>\n",
       "      <th>99</th>\n",
       "      <td>august</td>\n",
       "      <td>Taylor Swift</td>\n",
       "    </tr>\n",
       "    <tr>\n",
       "      <th>100</th>\n",
       "      <td>Unstoppable</td>\n",
       "      <td>Sia</td>\n",
       "    </tr>\n",
       "  </tbody>\n",
       "</table>\n",
       "<p>100 rows × 2 columns</p>\n",
       "</div>"
      ],
      "text/plain": [
       "                          Title                    Artist\n",
       "1                Margaritaville             Jimmy Buffett\n",
       "2                   Come Monday             Jimmy Buffett\n",
       "3    Rich Men North of Richmond      Oliver Anthony Music\n",
       "4                      All Star               Smash Mouth\n",
       "5      Cheeseburger In Paradise             Jimmy Buffett\n",
       "..                          ...                       ...\n",
       "96      Thought You Should Know             Morgan Wallen\n",
       "97                   Dial Drunk  Noah Kahan & Post Malone\n",
       "98              bad idea right?            Olivia Rodrigo\n",
       "99                       august              Taylor Swift\n",
       "100                 Unstoppable                       Sia\n",
       "\n",
       "[100 rows x 2 columns]"
      ]
     },
     "execution_count": 19,
     "metadata": {},
     "output_type": "execute_result"
    }
   ],
   "source": [
    "top.index = top.index + 1\n",
    "top"
   ]
  },
  {
   "cell_type": "markdown",
   "id": "993d640c",
   "metadata": {},
   "source": [
    "## Getting Another Top Songs List"
   ]
  },
  {
   "cell_type": "code",
   "execution_count": 20,
   "id": "e5e8cf8f",
   "metadata": {},
   "outputs": [],
   "source": [
    "# list to go through pages\n",
    "iterations = range(1,6)"
   ]
  },
  {
   "cell_type": "code",
   "execution_count": 21,
   "id": "47d13f97",
   "metadata": {},
   "outputs": [],
   "source": [
    "from time import sleep\n",
    "from random import randint"
   ]
  },
  {
   "cell_type": "code",
   "execution_count": 22,
   "id": "acfdbe52",
   "metadata": {},
   "outputs": [
    {
     "name": "stdout",
     "output_type": "stream",
     "text": [
      "Status code: 200\n",
      "https://www.poplist.de/poplist.php?site=1&var1=%20AND%20(tab_list_type.ID%20=%20466)&var4=Rolling%20Stone%20(2004)%20Die%20500%20besten%20Songs%20aller%20Zeiten%20-%20Kritiker&var5=Best-of-Lists%20from%20German%20Music%20Magazines%20-%20%20The%20500%20Best%20Songs%20of%20All%20Time&var10=Rolling%20Stone%20(2004)%20Die%20500%20besten%20Songs%20aller%20Zeiten,#list\n",
      "I will sleep for 4 second/s.\n",
      "Status code: 200\n",
      "https://www.poplist.de/poplist.php?site=2&var1=%20AND%20(tab_list_type.ID%20=%20466)&var4=Rolling%20Stone%20(2004)%20Die%20500%20besten%20Songs%20aller%20Zeiten%20-%20Kritiker&var5=Best-of-Lists%20from%20German%20Music%20Magazines%20-%20%20The%20500%20Best%20Songs%20of%20All%20Time&var10=Rolling%20Stone%20(2004)%20Die%20500%20besten%20Songs%20aller%20Zeiten,#list\n",
      "I will sleep for 4 second/s.\n",
      "Status code: 200\n",
      "https://www.poplist.de/poplist.php?site=3&var1=%20AND%20(tab_list_type.ID%20=%20466)&var4=Rolling%20Stone%20(2004)%20Die%20500%20besten%20Songs%20aller%20Zeiten%20-%20Kritiker&var5=Best-of-Lists%20from%20German%20Music%20Magazines%20-%20%20The%20500%20Best%20Songs%20of%20All%20Time&var10=Rolling%20Stone%20(2004)%20Die%20500%20besten%20Songs%20aller%20Zeiten,#list\n",
      "I will sleep for 4 second/s.\n",
      "Status code: 200\n",
      "https://www.poplist.de/poplist.php?site=4&var1=%20AND%20(tab_list_type.ID%20=%20466)&var4=Rolling%20Stone%20(2004)%20Die%20500%20besten%20Songs%20aller%20Zeiten%20-%20Kritiker&var5=Best-of-Lists%20from%20German%20Music%20Magazines%20-%20%20The%20500%20Best%20Songs%20of%20All%20Time&var10=Rolling%20Stone%20(2004)%20Die%20500%20besten%20Songs%20aller%20Zeiten,#list\n",
      "I will sleep for 2 second/s.\n",
      "Status code: 200\n",
      "https://www.poplist.de/poplist.php?site=5&var1=%20AND%20(tab_list_type.ID%20=%20466)&var4=Rolling%20Stone%20(2004)%20Die%20500%20besten%20Songs%20aller%20Zeiten%20-%20Kritiker&var5=Best-of-Lists%20from%20German%20Music%20Magazines%20-%20%20The%20500%20Best%20Songs%20of%20All%20Time&var10=Rolling%20Stone%20(2004)%20Die%20500%20besten%20Songs%20aller%20Zeiten,#list\n",
      "I will sleep for 2 second/s.\n"
     ]
    }
   ],
   "source": [
    "# get multiple pages\n",
    "\n",
    "pages = []\n",
    "\n",
    "for i in iterations:\n",
    "    # assemble the url:\n",
    "    start_at= str(i)\n",
    "    url = \"https://www.poplist.de/poplist.php?site=\"+start_at+\"&var1=%20AND%20(tab_list_type.ID%20=%20466)&var4=Rolling%20Stone%20(2004)%20Die%20500%20besten%20Songs%20aller%20Zeiten%20-%20Kritiker&var5=Best-of-Lists%20from%20German%20Music%20Magazines%20-%20%20The%20500%20Best%20Songs%20of%20All%20Time&var10=Rolling%20Stone%20(2004)%20Die%20500%20besten%20Songs%20aller%20Zeiten,#list\"\n",
    "    # download html with a get request:\n",
    "    response = requests.get(url)\n",
    "    #response = requests.get(url, headers = {\"Accept-Language\": \"en-US\"})\n",
    "\n",
    "    # monitor the process by printing the status code\n",
    "    print(\"Status code: \" + str(response.status_code))\n",
    "    print(url)\n",
    "    # store response into \"pages\" list\n",
    "    pages.append(response)\n",
    "\n",
    "    # respectful nap:\n",
    "    wait_time = randint(1,4)\n",
    "    print(\"I will sleep for \" + str(wait_time) + \" second/s.\")\n",
    "    sleep(wait_time)"
   ]
  },
  {
   "cell_type": "code",
   "execution_count": 23,
   "id": "5e57cb8c",
   "metadata": {},
   "outputs": [],
   "source": [
    "#print(BeautifulSoup(pages[0].content, \"html.parser\").prettify())"
   ]
  },
  {
   "cell_type": "code",
   "execution_count": 24,
   "id": "a4fe16d3",
   "metadata": {},
   "outputs": [],
   "source": [
    "# Parse just the first page, for testing purposes\n",
    "soup = BeautifulSoup(pages[0].content, \"html.parser\")"
   ]
  },
  {
   "cell_type": "code",
   "execution_count": 25,
   "id": "8dbb5f57",
   "metadata": {},
   "outputs": [],
   "source": [
    "#title\n",
    "#listcontainer > table > tbody > tr:nth-child(2) > td:nth-child(8) > a\n",
    "#listcontainer > table > tbody > tr:nth-child(3) > td:nth-child(8) > a\n",
    "#listcontainer > table > tbody > tr:nth-child(101) > td:nth-child(8) > a\n",
    "\n",
    "#artist\n",
    "#listcontainer > table > tbody > tr:nth-child(2) > td.bestlist.thick > a\n",
    "#listcontainer > table > tbody > tr:nth-child(3) > td.bestlist.thick > a\n",
    "#listcontainer > table > tbody > tr:nth-child(101) > td.bestlist.thick > a"
   ]
  },
  {
   "cell_type": "code",
   "execution_count": 26,
   "id": "691e5820",
   "metadata": {},
   "outputs": [],
   "source": [
    "#soup.select(\"td:nth-child(8) > a\")"
   ]
  },
  {
   "cell_type": "code",
   "execution_count": 27,
   "id": "afb8aa21",
   "metadata": {},
   "outputs": [
    {
     "name": "stdout",
     "output_type": "stream",
     "text": [
      "500\n"
     ]
    }
   ],
   "source": [
    "titles = []\n",
    "\n",
    "for i in range(len(pages)):\n",
    "    # parse all pages\n",
    "    parsed = BeautifulSoup(pages[i].content, \"html.parser\")\n",
    "    # select only the info about the titles\n",
    "    # put all titles in a list\n",
    "    for j in soup.select(\"td:nth-child(8) > a\"):\n",
    "        titles.append(j.get_text())\n",
    "\n",
    "# Checking our output:\n",
    "\n",
    "print(len(titles))\n",
    "#print(len(synopsis))"
   ]
  },
  {
   "cell_type": "code",
   "execution_count": 28,
   "id": "ca721675",
   "metadata": {},
   "outputs": [
    {
     "name": "stdout",
     "output_type": "stream",
     "text": [
      "500\n"
     ]
    }
   ],
   "source": [
    "artists = []\n",
    "\n",
    "for i in range(len(pages)):\n",
    "    # parse all pages\n",
    "    parsed = BeautifulSoup(pages[i].content, \"html.parser\")\n",
    "    # select only the info about the artists\n",
    "    # put all titles in a list\n",
    "    for j in soup.select(\"td.bestlist.thick > a\"):\n",
    "        artists.append(j.get_text())\n",
    "\n",
    "\n",
    "# Checking our output:\n",
    "\n",
    "\n",
    "print(len(artists))"
   ]
  },
  {
   "cell_type": "code",
   "execution_count": 29,
   "id": "e98d3051",
   "metadata": {},
   "outputs": [],
   "source": [
    "top2 = pd.DataFrame({\"Title\":titles,\"Artist\":artists})"
   ]
  },
  {
   "cell_type": "code",
   "execution_count": 30,
   "id": "8df7829a",
   "metadata": {},
   "outputs": [
    {
     "data": {
      "text/html": [
       "<div>\n",
       "<style scoped>\n",
       "    .dataframe tbody tr th:only-of-type {\n",
       "        vertical-align: middle;\n",
       "    }\n",
       "\n",
       "    .dataframe tbody tr th {\n",
       "        vertical-align: top;\n",
       "    }\n",
       "\n",
       "    .dataframe thead th {\n",
       "        text-align: right;\n",
       "    }\n",
       "</style>\n",
       "<table border=\"1\" class=\"dataframe\">\n",
       "  <thead>\n",
       "    <tr style=\"text-align: right;\">\n",
       "      <th></th>\n",
       "      <th>Title</th>\n",
       "      <th>Artist</th>\n",
       "    </tr>\n",
       "  </thead>\n",
       "  <tbody>\n",
       "    <tr>\n",
       "      <th>0</th>\n",
       "      <td>Like A Rolling Stone</td>\n",
       "      <td>Bob Dylan</td>\n",
       "    </tr>\n",
       "    <tr>\n",
       "      <th>1</th>\n",
       "      <td>(I Can’t Get No) Satisfaction</td>\n",
       "      <td>The Rolling Stones</td>\n",
       "    </tr>\n",
       "    <tr>\n",
       "      <th>2</th>\n",
       "      <td>Good Vibrations</td>\n",
       "      <td>The Beach Boys</td>\n",
       "    </tr>\n",
       "    <tr>\n",
       "      <th>3</th>\n",
       "      <td>Imagine</td>\n",
       "      <td>John Lennon</td>\n",
       "    </tr>\n",
       "    <tr>\n",
       "      <th>4</th>\n",
       "      <td>Smells Like Teen Spirit</td>\n",
       "      <td>Nirvana</td>\n",
       "    </tr>\n",
       "    <tr>\n",
       "      <th>...</th>\n",
       "      <td>...</td>\n",
       "      <td>...</td>\n",
       "    </tr>\n",
       "    <tr>\n",
       "      <th>495</th>\n",
       "      <td>Political Science</td>\n",
       "      <td>Randy Newman</td>\n",
       "    </tr>\n",
       "    <tr>\n",
       "      <th>496</th>\n",
       "      <td>Desolation Row</td>\n",
       "      <td>Bob Dylan</td>\n",
       "    </tr>\n",
       "    <tr>\n",
       "      <th>497</th>\n",
       "      <td>Long Tall Sally</td>\n",
       "      <td>Little Richard</td>\n",
       "    </tr>\n",
       "    <tr>\n",
       "      <th>498</th>\n",
       "      <td>A Whiter Shade Of Pale</td>\n",
       "      <td>Procol Harum</td>\n",
       "    </tr>\n",
       "    <tr>\n",
       "      <th>499</th>\n",
       "      <td>The Times They Are A-Changin’</td>\n",
       "      <td>Bob Dylan</td>\n",
       "    </tr>\n",
       "  </tbody>\n",
       "</table>\n",
       "<p>500 rows × 2 columns</p>\n",
       "</div>"
      ],
      "text/plain": [
       "                             Title              Artist\n",
       "0             Like A Rolling Stone           Bob Dylan\n",
       "1    (I Can’t Get No) Satisfaction  The Rolling Stones\n",
       "2                  Good Vibrations      The Beach Boys\n",
       "3                          Imagine         John Lennon\n",
       "4          Smells Like Teen Spirit             Nirvana\n",
       "..                             ...                 ...\n",
       "495              Political Science        Randy Newman\n",
       "496                 Desolation Row           Bob Dylan\n",
       "497                Long Tall Sally      Little Richard\n",
       "498         A Whiter Shade Of Pale        Procol Harum\n",
       "499  The Times They Are A-Changin’           Bob Dylan\n",
       "\n",
       "[500 rows x 2 columns]"
      ]
     },
     "execution_count": 30,
     "metadata": {},
     "output_type": "execute_result"
    }
   ],
   "source": [
    "top2"
   ]
  },
  {
   "cell_type": "code",
   "execution_count": 31,
   "id": "eec7afd2",
   "metadata": {
    "scrolled": true
   },
   "outputs": [
    {
     "data": {
      "text/html": [
       "<div>\n",
       "<style scoped>\n",
       "    .dataframe tbody tr th:only-of-type {\n",
       "        vertical-align: middle;\n",
       "    }\n",
       "\n",
       "    .dataframe tbody tr th {\n",
       "        vertical-align: top;\n",
       "    }\n",
       "\n",
       "    .dataframe thead th {\n",
       "        text-align: right;\n",
       "    }\n",
       "</style>\n",
       "<table border=\"1\" class=\"dataframe\">\n",
       "  <thead>\n",
       "    <tr style=\"text-align: right;\">\n",
       "      <th></th>\n",
       "      <th>Title</th>\n",
       "      <th>Artist</th>\n",
       "    </tr>\n",
       "  </thead>\n",
       "  <tbody>\n",
       "    <tr>\n",
       "      <th>1</th>\n",
       "      <td>Like A Rolling Stone</td>\n",
       "      <td>Bob Dylan</td>\n",
       "    </tr>\n",
       "    <tr>\n",
       "      <th>2</th>\n",
       "      <td>(I Can’t Get No) Satisfaction</td>\n",
       "      <td>The Rolling Stones</td>\n",
       "    </tr>\n",
       "    <tr>\n",
       "      <th>3</th>\n",
       "      <td>Good Vibrations</td>\n",
       "      <td>The Beach Boys</td>\n",
       "    </tr>\n",
       "    <tr>\n",
       "      <th>4</th>\n",
       "      <td>Imagine</td>\n",
       "      <td>John Lennon</td>\n",
       "    </tr>\n",
       "    <tr>\n",
       "      <th>5</th>\n",
       "      <td>Smells Like Teen Spirit</td>\n",
       "      <td>Nirvana</td>\n",
       "    </tr>\n",
       "    <tr>\n",
       "      <th>...</th>\n",
       "      <td>...</td>\n",
       "      <td>...</td>\n",
       "    </tr>\n",
       "    <tr>\n",
       "      <th>496</th>\n",
       "      <td>Political Science</td>\n",
       "      <td>Randy Newman</td>\n",
       "    </tr>\n",
       "    <tr>\n",
       "      <th>497</th>\n",
       "      <td>Desolation Row</td>\n",
       "      <td>Bob Dylan</td>\n",
       "    </tr>\n",
       "    <tr>\n",
       "      <th>498</th>\n",
       "      <td>Long Tall Sally</td>\n",
       "      <td>Little Richard</td>\n",
       "    </tr>\n",
       "    <tr>\n",
       "      <th>499</th>\n",
       "      <td>A Whiter Shade Of Pale</td>\n",
       "      <td>Procol Harum</td>\n",
       "    </tr>\n",
       "    <tr>\n",
       "      <th>500</th>\n",
       "      <td>The Times They Are A-Changin’</td>\n",
       "      <td>Bob Dylan</td>\n",
       "    </tr>\n",
       "  </tbody>\n",
       "</table>\n",
       "<p>500 rows × 2 columns</p>\n",
       "</div>"
      ],
      "text/plain": [
       "                             Title              Artist\n",
       "1             Like A Rolling Stone           Bob Dylan\n",
       "2    (I Can’t Get No) Satisfaction  The Rolling Stones\n",
       "3                  Good Vibrations      The Beach Boys\n",
       "4                          Imagine         John Lennon\n",
       "5          Smells Like Teen Spirit             Nirvana\n",
       "..                             ...                 ...\n",
       "496              Political Science        Randy Newman\n",
       "497                 Desolation Row           Bob Dylan\n",
       "498                Long Tall Sally      Little Richard\n",
       "499         A Whiter Shade Of Pale        Procol Harum\n",
       "500  The Times They Are A-Changin’           Bob Dylan\n",
       "\n",
       "[500 rows x 2 columns]"
      ]
     },
     "execution_count": 31,
     "metadata": {},
     "output_type": "execute_result"
    }
   ],
   "source": [
    "top2.index = top2.index + 1\n",
    "top2"
   ]
  },
  {
   "cell_type": "code",
   "execution_count": 35,
   "id": "1e5272c8",
   "metadata": {},
   "outputs": [],
   "source": [
    "top.to_csv('Top 100.csv', index=False)\n",
    "top2.to_csv('Top 100_2.csv', index=False)"
   ]
  },
  {
   "cell_type": "markdown",
   "id": "4639333d",
   "metadata": {},
   "source": [
    "## GNOD Process Step 2"
   ]
  },
  {
   "cell_type": "code",
   "execution_count": 33,
   "id": "47006ea0",
   "metadata": {},
   "outputs": [
    {
     "name": "stdout",
     "output_type": "stream",
     "text": [
      "Please enter the name of a song: MargaritaVille\n",
      "You entered a valid song name: MargaritaVille\n"
     ]
    }
   ],
   "source": [
    "# Prompt the user for a song name\n",
    "song_name = input(\"Please enter the name of a song: \")\n",
    "\n",
    "# Check if the input contains at least one alphabetical character and/or alphanumeric character\n",
    "if any(c.isalpha() for c in song_name) and any(c.isalnum() for c in song_name):\n",
    "    print(f\"You entered a valid song name: {song_name}\")\n",
    "else:\n",
    "    print(\"Invalid input. Please enter a song name containing letters and/or numbers.\")"
   ]
  },
  {
   "cell_type": "code",
   "execution_count": 38,
   "id": "76a09db6",
   "metadata": {},
   "outputs": [
    {
     "name": "stdout",
     "output_type": "stream",
     "text": [
      "Please enter the name of an artist: x\n",
      "You entered a valid artist name: x\n"
     ]
    }
   ],
   "source": [
    "\n",
    "# Prompt the user for a artist name\n",
    "artist_name = input(\"Please enter the name of an artist: \")\n",
    "\n",
    "# Check if the input contains at least one alphabetical character and/or alphanumeric character\n",
    "if any(c.isalpha() for c in artist_name) and any(c.isalnum() for c in artist_name):\n",
    "    print(f\"You entered a valid artist name: {artist_name}\")\n",
    "else:\n",
    "    print(\"Invalid input. Please enter a artist name containing letters and/or numbers.\")"
   ]
  },
  {
   "cell_type": "code",
   "execution_count": 40,
   "id": "8b8c86d8",
   "metadata": {},
   "outputs": [
    {
     "name": "stdout",
     "output_type": "stream",
     "text": [
      "MargaritaVille by x does not exist in the data frame.\n"
     ]
    }
   ],
   "source": [
    "# In case we need to check for song and artist together\n",
    "\n",
    "# Check if the input exists in our df\n",
    "#if (song_name.lower() in top['Title'].str.lower().values) & ((artist_name.lower() in top['Artist'].str.lower().values)) :\n",
    "    #print(f\"{song_name} by {artist_name} exists in the data frame.\")\n",
    "#else:\n",
    "    #print(f\"{song_name} by {artist_name} does not exist in the data frame.\")\n"
   ]
  },
  {
   "cell_type": "code",
   "execution_count": null,
   "id": "9f1d12c0",
   "metadata": {},
   "outputs": [],
   "source": [
    "# First to check with an if condition that it works\n",
    "\n",
    "Check if the input exists in our df\n",
    "if (song_name.lower() in top['Title'].str.lower().values):\n",
    "    print(f\"{song_name} exists in the data frame.\")\n",
    "else:\n",
    "    print(f\"{song_name} does not exist in the data frame.\")"
   ]
  },
  {
   "cell_type": "markdown",
   "id": "03c77139",
   "metadata": {},
   "source": [
    "## Combining the previous parts in one code"
   ]
  },
  {
   "cell_type": "markdown",
   "id": "d4d8eb4a",
   "metadata": {},
   "source": [
    "Matching the song to our df and recommending another song from the same df"
   ]
  },
  {
   "cell_type": "code",
   "execution_count": 43,
   "id": "237905e5",
   "metadata": {},
   "outputs": [
    {
     "name": "stdout",
     "output_type": "stream",
     "text": [
      "Please enter the name of a song: MargaritaVille\n",
      "The song 'Margaritaville' by Jimmy Buffett matches your input.\n",
      "Here's a recommended song: 'Brown Eyed Girl (Live)' by Jimmy Buffett\n"
     ]
    }
   ],
   "source": [
    "song_name = input(\"Please enter the name of a song: \")\n",
    "\n",
    "if any(c.isalpha() for c in song_name) and any(c.isalnum() for c in song_name):\n",
    "    song_name = song_name.lower()\n",
    "\n",
    "    matching_song = top[(top['Title'].str.lower() == song_name)]\n",
    "\n",
    "    if not matching_song.empty:\n",
    "        print(f\"The song '{matching_song['Title'].values[0]}' by {matching_song['Artist'].values[0]} matches your input.\")\n",
    "\n",
    "        recommended_song = top[top['Title'].str.lower() != song_name].sample(1)\n",
    "        print(f\"Here's a recommended song: '{recommended_song['Title'].values[0]}' by {recommended_song['Artist'].values[0]}\")\n",
    "    else:\n",
    "        print(f\"No recommendations found for the song: {song_name}\")\n",
    "else:\n",
    "    print(\"Invalid input. Please enter a song name containing letters and/or numbers.\")"
   ]
  },
  {
   "cell_type": "markdown",
   "id": "02746784",
   "metadata": {},
   "source": [
    "Another version where we can recommend songs from another df if there is no match to our df but it doesn't have to match the second df\n"
   ]
  },
  {
   "cell_type": "code",
   "execution_count": 48,
   "id": "36fea0ef",
   "metadata": {},
   "outputs": [
    {
     "name": "stdout",
     "output_type": "stream",
     "text": [
      "Please enter the name of a song: x\n",
      "Here's another song that might be interesting: 'Sympathy For The Devil' by The Rolling Stones\n"
     ]
    }
   ],
   "source": [
    "song_name = input(\"Please enter the name of a song: \")\n",
    "\n",
    "if any(c.isalpha() for c in song_name) and any(c.isalnum() for c in song_name):\n",
    "    song_name = song_name.lower()\n",
    "\n",
    "    matching_song = top[(top['Title'].str.lower() == song_name)]\n",
    "    matching_song2 = top2[(top2['Title'].str.lower() == song_name)]\n",
    "    if not matching_song.empty:\n",
    "        print(f\"The song '{matching_song['Title'].values[0]}' by {matching_song['Artist'].values[0]} matches your input.\")\n",
    "\n",
    "        recommended_song = top[top['Title'].str.lower() != song_name].sample(1)\n",
    "        print(f\"Here's a recommended song: '{recommended_song['Title'].values[0]}' by {recommended_song['Artist'].values[0]}\")\n",
    "    else:\n",
    "        other_song = other_song = top2.sample(1)\n",
    "        print(f\"Here's another song that might be interesting: '{other_song['Title'].values[0]}' by {other_song['Artist'].values[0]}\")\n",
    "else:\n",
    "    print(\"Invalid input. Please enter a song name containing letters and/or numbers.\")\n"
   ]
  },
  {
   "cell_type": "markdown",
   "id": "552f2722",
   "metadata": {},
   "source": [
    "Another version where we can recommend songs from another df if there is no match to our df but it has a match to another df"
   ]
  },
  {
   "cell_type": "code",
   "execution_count": 49,
   "id": "f5fafc3b",
   "metadata": {},
   "outputs": [
    {
     "name": "stdout",
     "output_type": "stream",
     "text": [
      "Please enter the name of a song: Like A Rolling Stone\n",
      "The song 'Like A Rolling Stone' by  Bob Dylan matches your input.\n",
      "Here's a recommended song: 'See Emily Play' by  Pink Floyd\n"
     ]
    }
   ],
   "source": [
    "song_name = input(\"Please enter the name of a song: \")\n",
    "\n",
    "if any(c.isalpha() for c in song_name) and any(c.isalnum() for c in song_name):\n",
    "    song_name = song_name.lower()\n",
    "\n",
    "    matching_song = top[(top['Title'].str.lower() == song_name)]\n",
    "    matching_song2 = top2[(top2['Title'].str.lower() == song_name)]\n",
    "    if not matching_song.empty:\n",
    "        print(f\"The song '{matching_song['Title'].values[0]}' by {matching_song['Artist'].values[0]} matches your input.\")\n",
    "\n",
    "        recommended_song = top[top['Title'].str.lower() != song_name].sample(1)\n",
    "        print(f\"Here's a recommended song: '{recommended_song['Title'].values[0]}' by {recommended_song['Artist'].values[0]}\")\n",
    "        \n",
    "    elif not matching_song2.empty:\n",
    "        print(f\"The song '{matching_song2['Title'].values[0]}' by {matching_song2['Artist'].values[0]} matches your input.\")\n",
    "\n",
    "        recommended_song2 = top2[top2['Title'].str.lower() != song_name].sample(1)\n",
    "        print(f\"Here's a recommended song: '{recommended_song2['Title'].values[0]}' by {recommended_song2['Artist'].values[0]}\")\n",
    "\n",
    "    \n",
    "    else:\n",
    "        print(f\"No recommendations found for the song: {song_name}\")\n",
    "else:\n",
    "    print(\"Invalid input. Please enter a song name containing letters and/or numbers.\")"
   ]
  }
 ],
 "metadata": {
  "kernelspec": {
   "display_name": "Python 3 (ipykernel)",
   "language": "python",
   "name": "python3"
  },
  "language_info": {
   "codemirror_mode": {
    "name": "ipython",
    "version": 3
   },
   "file_extension": ".py",
   "mimetype": "text/x-python",
   "name": "python",
   "nbconvert_exporter": "python",
   "pygments_lexer": "ipython3",
   "version": "3.11.3"
  }
 },
 "nbformat": 4,
 "nbformat_minor": 5
}
